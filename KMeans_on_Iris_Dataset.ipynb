{
  "nbformat": 4,
  "nbformat_minor": 0,
  "metadata": {
    "colab": {
      "provenance": []
    },
    "kernelspec": {
      "name": "python3",
      "display_name": "Python 3"
    },
    "language_info": {
      "name": "python"
    }
  },
  "cells": [
    {
      "cell_type": "markdown",
      "source": [
        "We shall start of by using KMeans available in Sklearn."
      ],
      "metadata": {
        "id": "F9SKbCxJ-pcj"
      }
    },
    {
      "cell_type": "code",
      "execution_count": null,
      "metadata": {
        "id": "HDjVrQXV8p-Y"
      },
      "outputs": [],
      "source": [
        "import numpy as np\n",
        "import matplotlib.pyplot as plt\n",
        "from sklearn.datasets import load_iris\n",
        "from sklearn import metrics"
      ]
    },
    {
      "cell_type": "code",
      "source": [
        "data=load_iris()\n",
        "x=data.data\n",
        "y=data.target"
      ],
      "metadata": {
        "id": "WmClZmWV9CIQ"
      },
      "execution_count": null,
      "outputs": []
    },
    {
      "cell_type": "code",
      "source": [
        "from sklearn.cluster import KMeans\n",
        "k_means=KMeans(n_clusters=3)\n",
        "k_means.fit(x)\n",
        "k_means.labels_"
      ],
      "metadata": {
        "colab": {
          "base_uri": "https://localhost:8080/"
        },
        "id": "WHFMJLXm9XI-",
        "outputId": "b7e202ed-2115-42e9-821a-cf3c888ab106"
      },
      "execution_count": null,
      "outputs": [
        {
          "output_type": "execute_result",
          "data": {
            "text/plain": [
              "array([0, 0, 0, 0, 0, 0, 0, 0, 0, 0, 0, 0, 0, 0, 0, 0, 0, 0, 0, 0, 0, 0,\n",
              "       0, 0, 0, 0, 0, 0, 0, 0, 0, 0, 0, 0, 0, 0, 0, 0, 0, 0, 0, 0, 0, 0,\n",
              "       0, 0, 0, 0, 0, 0, 1, 1, 2, 1, 1, 1, 1, 1, 1, 1, 1, 1, 1, 1, 1, 1,\n",
              "       1, 1, 1, 1, 1, 1, 1, 1, 1, 1, 1, 2, 1, 1, 1, 1, 1, 1, 1, 1, 1, 1,\n",
              "       1, 1, 1, 1, 1, 1, 1, 1, 1, 1, 1, 1, 2, 1, 2, 2, 2, 2, 1, 2, 2, 2,\n",
              "       2, 2, 2, 1, 1, 2, 2, 2, 2, 1, 2, 1, 2, 1, 2, 2, 1, 1, 2, 2, 2, 2,\n",
              "       2, 1, 2, 2, 2, 2, 1, 2, 2, 2, 1, 2, 2, 2, 1, 2, 2, 1], dtype=int32)"
            ]
          },
          "metadata": {},
          "execution_count": 9
        }
      ]
    },
    {
      "cell_type": "code",
      "source": [
        "score = metrics.accuracy_score(y,k_means.predict(x))\n",
        "print(score)"
      ],
      "metadata": {
        "colab": {
          "base_uri": "https://localhost:8080/"
        },
        "id": "JlcCuDbd91l3",
        "outputId": "4dd857e9-9e32-4e0b-8b96-de9eb8914203"
      },
      "execution_count": null,
      "outputs": [
        {
          "output_type": "stream",
          "name": "stdout",
          "text": [
            "0.8933333333333333\n"
          ]
        }
      ]
    },
    {
      "cell_type": "code",
      "source": [
        "class K_Means:\n",
        "\n",
        "  def __init__(self,max_iter,k):\n",
        "    self.max_iter=max_iter\n",
        "    self.k=k\n",
        "\n",
        "  def fit(self,data):\n",
        "    self.means=[]\n",
        "    for i in range(self.k):\n",
        "      self.means.append(data[i])\n",
        "    for i in range(self.max_iter):\n",
        "      clusters=[]\n",
        "      for j in range(self.k):\n",
        "        clusters.append([])\n",
        "      for points in data:\n",
        "        distances=[((points-m)**2).sum() for m in self.means]\n",
        "        mindist=min(distances)\n",
        "        l=distances.index(mindist)\n",
        "        clusters[l].append(points)\n",
        "      change=False\n",
        "      for j in range(self.k):\n",
        "        new_mean=np.average(clusters[j], axis=0)\n",
        "        if not np.array_equal(self.means[j], new_mean):\n",
        "          change=True\n",
        "        self.means=new_mean\n",
        "      if not change:\n",
        "        break\n",
        "      return self.means\n",
        "\n",
        "  def predict(self,test_data):\n",
        "    predictions=[]\n",
        "    for points in test_data:\n",
        "      distances=[((points-m)**2).sum() for m in self.means]\n",
        "      mindist=min(distances)\n",
        "      l=distances.index(mindist)\n",
        "      predictions.append(l)\n",
        "    return predictions"
      ],
      "metadata": {
        "id": "d6ajUUmA-xkI"
      },
      "execution_count": null,
      "outputs": []
    },
    {
      "cell_type": "code",
      "source": [
        "kmeans=K_Means(100,3)\n",
        "kmeans.fit(x)\n",
        "#if we now call \"kmeans.predict(x)\", then this works even when we did not declare \"means\" because it uses means found in fit(x) for predict(x)"
      ],
      "metadata": {
        "colab": {
          "base_uri": "https://localhost:8080/"
        },
        "id": "FEq0lbTSGuye",
        "outputId": "3e245e37-03d9-48ce-eb5e-fa6959ddbcab"
      },
      "execution_count": null,
      "outputs": [
        {
          "output_type": "execute_result",
          "data": {
            "text/plain": [
              "array([4.55454545, 3.2       , 1.35454545, 0.2       ])"
            ]
          },
          "metadata": {},
          "execution_count": 20
        }
      ]
    },
    {
      "cell_type": "code",
      "source": [
        "score = metrics.accuracy_score(y,kmeans.predict(x))\n",
        "print(score)"
      ],
      "metadata": {
        "colab": {
          "base_uri": "https://localhost:8080/"
        },
        "id": "6K8mRAgiIpp-",
        "outputId": "ff576606-4b4b-438d-c650-07ec6ef7b665"
      },
      "execution_count": null,
      "outputs": [
        {
          "output_type": "stream",
          "name": "stdout",
          "text": [
            "0.2733333333333333\n"
          ]
        }
      ]
    }
  ]
}